{
  "nbformat": 4,
  "nbformat_minor": 0,
  "metadata": {
    "colab": {
      "name": "iris.ipynb",
      "version": "0.3.2",
      "provenance": [],
      "private_outputs": true,
      "collapsed_sections": []
    },
    "kernelspec": {
      "name": "python3",
      "display_name": "Python 3"
    },
    "accelerator": "GPU"
  },
  "cells": [
    {
      "cell_type": "code",
      "metadata": {
        "id": "LQob_oHcDdgd",
        "colab_type": "code",
        "colab": {}
      },
      "source": [
        "%%capture\n",
        "!wget https://raw.githubusercontent.com/milliams/machine_learning/master/iris_data.py\n",
        "!wget https://raw.githubusercontent.com/milliams/machine_learning/master/premade_estimator.py\n",
        "\n",
        "import premade_estimator"
      ],
      "execution_count": 0,
      "outputs": []
    },
    {
      "cell_type": "code",
      "metadata": {
        "id": "sSunuvZIIsog",
        "colab_type": "code",
        "colab": {}
      },
      "source": [
        "premade_estimator.main([\"iris\"])"
      ],
      "execution_count": 0,
      "outputs": []
    }
  ]
}
