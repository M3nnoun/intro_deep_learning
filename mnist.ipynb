{
 "cells": [
  {
   "cell_type": "markdown",
   "metadata": {},
   "source": [
    "# MNIST training\n",
    "\n",
    "## Data loading"
   ]
  },
  {
   "cell_type": "code",
   "execution_count": 11,
   "metadata": {},
   "outputs": [
    {
     "data": {
      "text/plain": [
       "<_PrefetchDataset element_spec=(TensorSpec(shape=(28, 28, 1), dtype=tf.uint8, name=None), TensorSpec(shape=(), dtype=tf.int64, name=None))>"
      ]
     },
     "execution_count": 11,
     "metadata": {},
     "output_type": "execute_result"
    }
   ],
   "source": [
    "import tensorflow as tf\n",
    "import tensorflow_datasets as tfds\n",
    "\n",
    "INVERT = True\n",
    "\n",
    "(ds_train, ds_test), ds_info = tfds.load(\n",
    "    \"mnist\",\n",
    "    split=[\"train\", \"test\"],\n",
    "    shuffle_files=True,\n",
    "    as_supervised=True,\n",
    "    with_info=True,\n",
    ")\n",
    "\n",
    "ds_train"
   ]
  },
  {
   "cell_type": "markdown",
   "metadata": {},
   "source": [
    "## Training dataset setup"
   ]
  },
  {
   "cell_type": "code",
   "execution_count": 12,
   "metadata": {},
   "outputs": [],
   "source": [
    "def normalize_img(image, label):\n",
    "    \"\"\"Normalizes images: `uint8` -> `float32`.\"\"\"\n",
    "    return tf.cast(image, tf.float32) / 255., label\n",
    "\n",
    "ds_train = ds_train.map(normalize_img)\n",
    "\n",
    "if INVERT:\n",
    "    def invert(image, label):\n",
    "        return (tf.cast(image, tf.float32) * -1.0) + 1.0, label\n",
    "    inverted = ds_train.map(invert)\n",
    "    ds_train = ds_train.concatenate(inverted)\n",
    "\n",
    "ds_train = ds_train.cache()\n",
    "ds_train = ds_train.shuffle(ds_info.splits[\"train\"].num_examples*(INVERT+1))\n",
    "ds_train = ds_train.batch(128)\n",
    "ds_train = ds_train.prefetch(tf.data.experimental.AUTOTUNE)"
   ]
  },
  {
   "cell_type": "markdown",
   "metadata": {},
   "source": [
    "## Testing dataset setup"
   ]
  },
  {
   "cell_type": "code",
   "execution_count": 13,
   "metadata": {},
   "outputs": [],
   "source": [
    "ds_test = ds_test.map(normalize_img)\n",
    "\n",
    "if INVERT:\n",
    "    inverted = ds_test.map(invert)\n",
    "    ds_test = ds_test.concatenate(inverted)\n",
    "\n",
    "ds_test = ds_test.batch(128)\n",
    "ds_test = ds_test.cache()\n",
    "ds_test = ds_test.prefetch(tf.data.experimental.AUTOTUNE)"
   ]
  },
  {
   "cell_type": "markdown",
   "metadata": {},
   "source": [
    "## Model creation"
   ]
  },
  {
   "cell_type": "code",
   "execution_count": 14,
   "metadata": {},
   "outputs": [],
   "source": [
    "max_pool = tf.keras.layers.MaxPool2D((2, 2), (2, 2), padding='same')\n",
    "\n",
    "model = tf.keras.models.Sequential([\n",
    "    tf.keras.layers.Conv2D(\n",
    "        filters=16,\n",
    "        kernel_size=5,\n",
    "        padding=\"same\",\n",
    "        activation=tf.nn.relu),\n",
    "    max_pool,\n",
    "    tf.keras.layers.Conv2D(\n",
    "        filters=32,\n",
    "        kernel_size=5,\n",
    "        padding=\"same\",\n",
    "        activation=tf.nn.relu),\n",
    "    max_pool,\n",
    "    tf.keras.layers.Flatten(),\n",
    "    tf.keras.layers.Dense(128, activation=\"relu\"),\n",
    "    tf.keras.layers.Dropout(0.4),\n",
    "    tf.keras.layers.Dense(10, activation=\"softmax\")\n",
    "])\n",
    "\n",
    "model.compile(\n",
    "    loss=\"sparse_categorical_crossentropy\",\n",
    "    optimizer=\"adam\",\n",
    "    metrics=[\"accuracy\"],\n",
    ")"
   ]
  },
  {
   "cell_type": "markdown",
   "metadata": {},
   "source": [
    "## Model fitting"
   ]
  },
  {
   "cell_type": "code",
   "execution_count": 15,
   "metadata": {},
   "outputs": [
    {
     "name": "stdout",
     "output_type": "stream",
     "text": [
      "\u001b[1m938/938\u001b[0m \u001b[32m━━━━━━━━━━━━━━━━━━━━\u001b[0m\u001b[37m\u001b[0m \u001b[1m88s\u001b[0m 84ms/step - accuracy: 0.8120 - loss: 0.5856 - val_accuracy: 0.9783 - val_loss: 0.0644\n"
     ]
    },
    {
     "data": {
      "text/plain": [
       "<keras.src.callbacks.history.History at 0x7f13203f94b0>"
      ]
     },
     "execution_count": 15,
     "metadata": {},
     "output_type": "execute_result"
    }
   ],
   "source": [
    "model.fit(\n",
    "    ds_train,\n",
    "    epochs=1,\n",
    "    validation_data=ds_test,\n",
    ")"
   ]
  },
  {
   "cell_type": "markdown",
   "metadata": {},
   "source": [
    "## Prediction image loading"
   ]
  },
  {
   "cell_type": "code",
   "execution_count": 16,
   "metadata": {},
   "outputs": [],
   "source": [
    "!wget -q https://github.com/milliams/machine_learning/archive/master.zip\n",
    "!unzip -q -j -o master.zip"
   ]
  },
  {
   "cell_type": "code",
   "execution_count": 17,
   "metadata": {},
   "outputs": [],
   "source": [
    "import numpy as np\n",
    "from skimage.io import imread\n",
    "\n",
    "images = []\n",
    "for i in list(range(1,10)) + [\"dog\"]:\n",
    "    images.append(np.array(imread(f\"{i}.png\")/255.0, dtype='float32'))\n",
    "images = np.array(images)[:,:,:,np.newaxis]\n",
    "test_data = tf.convert_to_tensor(images)"
   ]
  },
  {
   "cell_type": "markdown",
   "metadata": {},
   "source": [
    "## Make the predictions"
   ]
  },
  {
   "cell_type": "code",
   "execution_count": 18,
   "metadata": {},
   "outputs": [
    {
     "name": "stdout",
     "output_type": "stream",
     "text": [
      "\u001b[1m1/1\u001b[0m \u001b[32m━━━━━━━━━━━━━━━━━━━━\u001b[0m\u001b[37m\u001b[0m \u001b[1m0s\u001b[0m 76ms/step\n"
     ]
    }
   ],
   "source": [
    "probabilities = model.predict(test_data)"
   ]
  },
  {
   "cell_type": "markdown",
   "metadata": {},
   "source": [
    "## Output stats on the predictions"
   ]
  },
  {
   "cell_type": "code",
   "execution_count": 19,
   "metadata": {},
   "outputs": [
    {
     "name": "stdout",
     "output_type": "stream",
     "text": [
      "1 at 68.9%. CNN thinks it's a 1 (68.9%)\n",
      "2 at 96.2%. CNN thinks it's a 2 (96.2%)\n",
      "3 at 98.9%. CNN thinks it's a 3 (98.9%)\n",
      "4 at 99.9%. CNN thinks it's a 4 (99.9%)\n",
      "5 at 97.8%. CNN thinks it's a 5 (97.8%)\n",
      "6 at 99.9%. CNN thinks it's a 6 (99.9%)\n",
      "7 at 38.5%. CNN thinks it's a 1 (41.9%)\n",
      "8 at 98.9%. CNN thinks it's a 8 (98.9%)\n",
      "9 at  2.1%. CNN thinks it's a 0 (60.3%)\n",
      "dog. CNN thinks it's a 8 (33.7%)\n"
     ]
    }
   ],
   "source": [
    "truths = list(range(1, 10)) + [\"dog\"]\n",
    "\n",
    "table = []\n",
    "for truth, probs in zip(truths, probabilities):\n",
    "    prediction = probs.argmax()\n",
    "    if truth == 'dog':\n",
    "        print(f\"{truth}. CNN thinks it's a {prediction} ({probs[prediction]*100:.1f}%)\")\n",
    "    else:\n",
    "        print(f\"{truth} at {probs[truth]*100:4.1f}%. CNN thinks it's a {prediction} ({probs[prediction]*100:4.1f}%)\")\n",
    "    table.append((truth, probs))"
   ]
  },
  {
   "cell_type": "code",
   "execution_count": 20,
   "metadata": {
    "jupyter": {
     "source_hidden": true
    }
   },
   "outputs": [
    {
     "name": "stdout",
     "output_type": "stream",
     "text": [
      "<table cellpadding=\"0\" style=\"border-collapse: collapse; border-style: hidden;\">\n",
      "    <thead>\n",
      "    <tr>\n",
      "    <td><b>Image</b></td>\n",
      "    <td><b>0</b></td>\n",
      "    <td><b>1</b></td>\n",
      "    <td><b>2</b></td>\n",
      "    <td><b>3</b></td>\n",
      "    <td><b>4</b></td>\n",
      "    <td><b>5</b></td>\n",
      "    <td><b>6</b></td>\n",
      "    <td><b>7</b></td>\n",
      "    <td><b>8</b></td>\n",
      "    <td><b>9</b></td>\n",
      "    </tr>\n",
      "    </thead>\n",
      "    <tbody>\n",
      "<tr>\n",
      "<td><img src=\"1.png\" style=\"margin: 1px 0px\"></td>\n",
      "<td>2%</td>\n",
      "<td style=\"color:green;\">69%</td>\n",
      "<td>5%</td>\n",
      "<td>2%</td>\n",
      "<td>6%</td>\n",
      "<td>3%</td>\n",
      "<td>1%</td>\n",
      "<td>6%</td>\n",
      "<td>4%</td>\n",
      "<td>1%</td>\n",
      "</tr>\n",
      "<tr>\n",
      "<td><img src=\"2.png\" style=\"margin: 1px 0px\"></td>\n",
      "<td>0%</td>\n",
      "<td>0%</td>\n",
      "<td style=\"color:green;\">96%</td>\n",
      "<td>0%</td>\n",
      "<td>0%</td>\n",
      "<td>0%</td>\n",
      "<td>0%</td>\n",
      "<td>0%</td>\n",
      "<td>4%</td>\n",
      "<td>0%</td>\n",
      "</tr>\n",
      "<tr>\n",
      "<td><img src=\"3.png\" style=\"margin: 1px 0px\"></td>\n",
      "<td>0%</td>\n",
      "<td>0%</td>\n",
      "<td>0%</td>\n",
      "<td style=\"color:green;\">99%</td>\n",
      "<td>0%</td>\n",
      "<td>0%</td>\n",
      "<td>0%</td>\n",
      "<td>0%</td>\n",
      "<td>1%</td>\n",
      "<td>0%</td>\n",
      "</tr>\n",
      "<tr>\n",
      "<td><img src=\"4.png\" style=\"margin: 1px 0px\"></td>\n",
      "<td>0%</td>\n",
      "<td>0%</td>\n",
      "<td>0%</td>\n",
      "<td>0%</td>\n",
      "<td style=\"color:green;\">100%</td>\n",
      "<td>0%</td>\n",
      "<td>0%</td>\n",
      "<td>0%</td>\n",
      "<td>0%</td>\n",
      "<td>0%</td>\n",
      "</tr>\n",
      "<tr>\n",
      "<td><img src=\"5.png\" style=\"margin: 1px 0px\"></td>\n",
      "<td>0%</td>\n",
      "<td>0%</td>\n",
      "<td>0%</td>\n",
      "<td>0%</td>\n",
      "<td>0%</td>\n",
      "<td style=\"color:green;\">98%</td>\n",
      "<td>0%</td>\n",
      "<td>0%</td>\n",
      "<td>2%</td>\n",
      "<td>0%</td>\n",
      "</tr>\n",
      "<tr>\n",
      "<td><img src=\"6.png\" style=\"margin: 1px 0px\"></td>\n",
      "<td>0%</td>\n",
      "<td>0%</td>\n",
      "<td>0%</td>\n",
      "<td>0%</td>\n",
      "<td>0%</td>\n",
      "<td>0%</td>\n",
      "<td style=\"color:green;\">100%</td>\n",
      "<td>0%</td>\n",
      "<td>0%</td>\n",
      "<td>0%</td>\n",
      "</tr>\n",
      "<tr>\n",
      "<td><img src=\"7.png\" style=\"margin: 1px 0px\"></td>\n",
      "<td>0%</td>\n",
      "<td style=\"color:red;\">42%</td>\n",
      "<td>18%</td>\n",
      "<td>0%</td>\n",
      "<td>0%</td>\n",
      "<td>0%</td>\n",
      "<td>0%</td>\n",
      "<td>38%</td>\n",
      "<td>1%</td>\n",
      "<td>0%</td>\n",
      "</tr>\n",
      "<tr>\n",
      "<td><img src=\"8.png\" style=\"margin: 1px 0px\"></td>\n",
      "<td>0%</td>\n",
      "<td>0%</td>\n",
      "<td>1%</td>\n",
      "<td>0%</td>\n",
      "<td>0%</td>\n",
      "<td>0%</td>\n",
      "<td>0%</td>\n",
      "<td>0%</td>\n",
      "<td style=\"color:green;\">99%</td>\n",
      "<td>0%</td>\n",
      "</tr>\n",
      "<tr>\n",
      "<td><img src=\"9.png\" style=\"margin: 1px 0px\"></td>\n",
      "<td style=\"color:red;\">60%</td>\n",
      "<td>0%</td>\n",
      "<td>2%</td>\n",
      "<td>1%</td>\n",
      "<td>1%</td>\n",
      "<td>0%</td>\n",
      "<td>2%</td>\n",
      "<td>0%</td>\n",
      "<td>31%</td>\n",
      "<td>2%</td>\n",
      "</tr>\n",
      "<tr>\n",
      "<td><img src=\"dog.png\" style=\"margin: 1px 0px\"></td>\n",
      "<td>3%</td>\n",
      "<td>4%</td>\n",
      "<td>13%</td>\n",
      "<td>5%</td>\n",
      "<td>10%</td>\n",
      "<td>6%</td>\n",
      "<td>9%</td>\n",
      "<td>15%</td>\n",
      "<td style=\"color:red;\">34%</td>\n",
      "<td>1%</td>\n",
      "</tr>\n",
      "</tbody>\n",
      "    </table>\n"
     ]
    }
   ],
   "source": [
    "def print_table(table):\n",
    "    print(\"\"\"<table cellpadding=\"0\" style=\"border-collapse: collapse; border-style: hidden;\">\n",
    "    <thead>\n",
    "    <tr>\n",
    "    <td><b>Image</b></td>\n",
    "    <td><b>0</b></td>\n",
    "    <td><b>1</b></td>\n",
    "    <td><b>2</b></td>\n",
    "    <td><b>3</b></td>\n",
    "    <td><b>4</b></td>\n",
    "    <td><b>5</b></td>\n",
    "    <td><b>6</b></td>\n",
    "    <td><b>7</b></td>\n",
    "    <td><b>8</b></td>\n",
    "    <td><b>9</b></td>\n",
    "    </tr>\n",
    "    </thead>\n",
    "    <tbody>\"\"\")\n",
    "    for truth, l in table:\n",
    "        print(\"<tr>\")\n",
    "        print(f'<td><img src=\"{truth}.png\" style=\"margin: 1px 0px\"></td>')\n",
    "        highest_prob = l.argmax()\n",
    "        for j, m in enumerate(l):\n",
    "            if j == highest_prob:\n",
    "                if highest_prob == truth:\n",
    "                    colour = \"green\"\n",
    "                else:\n",
    "                    colour = \"red\"\n",
    "                print(f'<td style=\"color:{colour};\">{int(round(m*100))}%</td>')\n",
    "            else:\n",
    "                print(f\"<td>{int(round(m*100))}%</td>\")\n",
    "        print(\"</tr>\")\n",
    "    print(\"\"\"</tbody>\n",
    "    </table>\"\"\")\n",
    "\n",
    "print_table(table)"
   ]
  },
  {
   "cell_type": "markdown",
   "metadata": {},
   "source": [
    "<table cellpadding=\"0\" style=\"border-collapse: collapse; border-style: hidden;\">\n",
    "    <thead>\n",
    "    <tr>\n",
    "    <td><b>Image</b></td>\n",
    "    <td><b>0</b></td>\n",
    "    <td><b>1</b></td>\n",
    "    <td><b>2</b></td>\n",
    "    <td><b>3</b></td>\n",
    "    <td><b>4</b></td>\n",
    "    <td><b>5</b></td>\n",
    "    <td><b>6</b></td>\n",
    "    <td><b>7</b></td>\n",
    "    <td><b>8</b></td>\n",
    "    <td><b>9</b></td>\n",
    "    </tr>\n",
    "    </thead>\n",
    "    <tbody>\n",
    "<tr>\n",
    "<td><img src=\"1.png\" style=\"margin: 1px 0px\"></td>\n",
    "<td>2%</td>\n",
    "<td style=\"color:green;\">69%</td>\n",
    "<td>5%</td>\n",
    "<td>2%</td>\n",
    "<td>6%</td>\n",
    "<td>3%</td>\n",
    "<td>1%</td>\n",
    "<td>6%</td>\n",
    "<td>4%</td>\n",
    "<td>1%</td>\n",
    "</tr>\n",
    "<tr>\n",
    "<td><img src=\"2.png\" style=\"margin: 1px 0px\"></td>\n",
    "<td>0%</td>\n",
    "<td>0%</td>\n",
    "<td style=\"color:green;\">96%</td>\n",
    "<td>0%</td>\n",
    "<td>0%</td>\n",
    "<td>0%</td>\n",
    "<td>0%</td>\n",
    "<td>0%</td>\n",
    "<td>4%</td>\n",
    "<td>0%</td>\n",
    "</tr>\n",
    "<tr>\n",
    "<td><img src=\"3.png\" style=\"margin: 1px 0px\"></td>\n",
    "<td>0%</td>\n",
    "<td>0%</td>\n",
    "<td>0%</td>\n",
    "<td style=\"color:green;\">99%</td>\n",
    "<td>0%</td>\n",
    "<td>0%</td>\n",
    "<td>0%</td>\n",
    "<td>0%</td>\n",
    "<td>1%</td>\n",
    "<td>0%</td>\n",
    "</tr>\n",
    "<tr>\n",
    "<td><img src=\"4.png\" style=\"margin: 1px 0px\"></td>\n",
    "<td>0%</td>\n",
    "<td>0%</td>\n",
    "<td>0%</td>\n",
    "<td>0%</td>\n",
    "<td style=\"color:green;\">100%</td>\n",
    "<td>0%</td>\n",
    "<td>0%</td>\n",
    "<td>0%</td>\n",
    "<td>0%</td>\n",
    "<td>0%</td>\n",
    "</tr>\n",
    "<tr>\n",
    "<td><img src=\"5.png\" style=\"margin: 1px 0px\"></td>\n",
    "<td>0%</td>\n",
    "<td>0%</td>\n",
    "<td>0%</td>\n",
    "<td>0%</td>\n",
    "<td>0%</td>\n",
    "<td style=\"color:green;\">98%</td>\n",
    "<td>0%</td>\n",
    "<td>0%</td>\n",
    "<td>2%</td>\n",
    "<td>0%</td>\n",
    "</tr>\n",
    "<tr>\n",
    "<td><img src=\"6.png\" style=\"margin: 1px 0px\"></td>\n",
    "<td>0%</td>\n",
    "<td>0%</td>\n",
    "<td>0%</td>\n",
    "<td>0%</td>\n",
    "<td>0%</td>\n",
    "<td>0%</td>\n",
    "<td style=\"color:green;\">100%</td>\n",
    "<td>0%</td>\n",
    "<td>0%</td>\n",
    "<td>0%</td>\n",
    "</tr>\n",
    "<tr>\n",
    "<td><img src=\"7.png\" style=\"margin: 1px 0px\"></td>\n",
    "<td>0%</td>\n",
    "<td style=\"color:red;\">42%</td>\n",
    "<td>18%</td>\n",
    "<td>0%</td>\n",
    "<td>0%</td>\n",
    "<td>0%</td>\n",
    "<td>0%</td>\n",
    "<td>38%</td>\n",
    "<td>1%</td>\n",
    "<td>0%</td>\n",
    "</tr>\n",
    "<tr>\n",
    "<td><img src=\"8.png\" style=\"margin: 1px 0px\"></td>\n",
    "<td>0%</td>\n",
    "<td>0%</td>\n",
    "<td>1%</td>\n",
    "<td>0%</td>\n",
    "<td>0%</td>\n",
    "<td>0%</td>\n",
    "<td>0%</td>\n",
    "<td>0%</td>\n",
    "<td style=\"color:green;\">99%</td>\n",
    "<td>0%</td>\n",
    "</tr>\n",
    "<tr>\n",
    "<td><img src=\"9.png\" style=\"margin: 1px 0px\"></td>\n",
    "<td style=\"color:red;\">60%</td>\n",
    "<td>0%</td>\n",
    "<td>2%</td>\n",
    "<td>1%</td>\n",
    "<td>1%</td>\n",
    "<td>0%</td>\n",
    "<td>2%</td>\n",
    "<td>0%</td>\n",
    "<td>31%</td>\n",
    "<td>2%</td>\n",
    "</tr>\n",
    "<tr>\n",
    "<td><img src=\"dog.png\" style=\"margin: 1px 0px\"></td>\n",
    "<td>3%</td>\n",
    "<td>4%</td>\n",
    "<td>13%</td>\n",
    "<td>5%</td>\n",
    "<td>10%</td>\n",
    "<td>6%</td>\n",
    "<td>9%</td>\n",
    "<td>15%</td>\n",
    "<td style=\"color:red;\">34%</td>\n",
    "<td>1%</td>\n",
    "</tr>\n",
    "</tbody>\n",
    "    </table>\n"
   ]
  },
  {
   "cell_type": "markdown",
   "metadata": {},
   "source": [
    "=> we train the data on black-background image (write white).\n",
    "=> After we using other image (white back-gound ; we get False result)\n",
    "### Machine Always give answer"
   ]
  },
  {
   "cell_type": "markdown",
   "metadata": {},
   "source": []
  }
 ],
 "metadata": {
  "accelerator": "GPU",
  "colab": {
   "collapsed_sections": [],
   "name": "mnist.ipynb",
   "private_outputs": true,
   "provenance": [],
   "version": "0.3.2"
  },
  "kernelspec": {
   "display_name": "Python 3 (ipykernel)",
   "language": "python",
   "name": "python3"
  }
 },
 "nbformat": 4,
 "nbformat_minor": 4
}
