{
  "nbformat": 4,
  "nbformat_minor": 0,
  "metadata": {
    "colab": {
      "name": "mnist.ipynb",
      "version": "0.3.2",
      "provenance": [],
      "private_outputs": true,
      "collapsed_sections": []
    },
    "kernelspec": {
      "name": "python3",
      "display_name": "Python 3"
    },
    "accelerator": "GPU"
  },
  "cells": [
    {
      "cell_type": "code",
      "metadata": {
        "id": "pU8cvJDKMyow",
        "colab_type": "code",
        "colab": {}
      },
      "source": [
        "!wget https://raw.githubusercontent.com/milliams/machine_learning/master/mnist.py\n",
        "!wget https://raw.githubusercontent.com/milliams/machine_learning/master/mnist_dataset.py\n",
        "!wget https://github.com/tensorflow/models/archive/v1.11.tar.gz\n",
        "!tar xvf v1.11.tar.gz\n",
        "import sys\n",
        "import os\n",
        "sys.path.append(\"models-1.11\")\n",
        "\n",
        "import tensorflow as tf\n",
        "from absl import app as absl_app\n",
        "from absl import flags\n",
        "from official.utils.flags import core as flags_core\n",
        "\n",
        "import mnist"
      ],
      "execution_count": 0,
      "outputs": []
    },
    {
      "cell_type": "code",
      "metadata": {
        "id": "v8DlgKkVNKJG",
        "colab_type": "code",
        "colab": {}
      },
      "source": [
        "import sys\n",
        "sys.argv = [\"mnist\", \"--train_epochs=5\"]\n",
        "\n",
        "flags_core.define_base()\n",
        "flags_core.define_image()\n",
        "flags.adopt_module_key_flags(flags_core)\n",
        "flags_core.set_defaults(batch_size=100, train_epochs=40)"
      ],
      "execution_count": 0,
      "outputs": []
    },
    {
      "cell_type": "code",
      "metadata": {
        "id": "qe4UOfhwQsWR",
        "colab_type": "code",
        "colab": {}
      },
      "source": [
        "os.environ[\"INVERT\"] = \"0\"\n",
        "absl_app.run(mnist.main)"
      ],
      "execution_count": 0,
      "outputs": []
    }
  ]
}