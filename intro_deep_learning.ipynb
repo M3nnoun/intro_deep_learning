{
 "cells": [
  {
   "cell_type": "markdown",
   "metadata": {
    "slideshow": {
     "slide_type": "slide"
    }
   },
   "source": [
    "An introduction to\n",
    "\n",
    "# Deep learning"
   ]
  },
  {
   "cell_type": "markdown",
   "metadata": {
    "slideshow": {
     "slide_type": "slide"
    }
   },
   "source": [
    "# What is machine learning?\n",
    "\n",
    "- Machine learning (ML) is a techinque which uses computers to discover patterns or information about your data.\n",
    "- It is a part of the wider field of *artificial intelligence*\n",
    "- There are lots of different types of machine learning"
   ]
  },
  {
   "cell_type": "markdown",
   "metadata": {
    "slideshow": {
     "slide_type": "slide"
    }
   },
   "source": [
    "# Examples of machine learning\n",
    "\n",
    "- Simplest ML algorithm could be a linear regression. It automatically and iteratively looks at your data to calculate the parameters of your $y = mx + c$ curve\n",
    "- A more advenced technique is *K-means clustering*. It is a way of finding clusters of points in your data without having to input any explicit labels.\n",
    "- The most famous is *neural networks* (NN) which were inspired by the brain and use a directed network of connected neurons to describe features of the data set.\n",
    "    - More recently (since about 2010) *deep neural networks* (DNN) have become possible, allowing more detailed models of data to be learned starting the modern buzz for *deep learning*."
   ]
  },
  {
   "cell_type": "markdown",
   "metadata": {
    "slideshow": {
     "slide_type": "slide"
    }
   },
   "source": [
    "# What are neural networks\n",
    "\n",
    "Neural networks are a collection of artificial neurons connected together so it's best to start by learning about about neurons.\n",
    "\n",
    "In nature, a neuron is a cell which has an electrical connection to other neurons. If a charge is felt from 'enough' of the input neurons then the neuron fires and passes a charge to its output. This design and how they are arranged into networks is the direct inspiration for artificial neural networks.\n",
    "\n",
    "An artificial neuron has multiple inputs and can pass its output to multiple other neurons.\n",
    "\n",
    "A neuron will calculate its value, $p = \\sum_i{x_iw_i}$ where $x_i$ is the input value and $w_i$ is a weight assigned to that connection. This $p$ is then passed through some *activation function* to determine the output of the neuron.\n",
    "\n",
    "<img src=\"neuron.png\" alt=\"An artificial neuron\" style=\"width: 200px; margin:0 auto;\"/>"
   ]
  },
  {
   "cell_type": "markdown",
   "metadata": {
    "slideshow": {
     "slide_type": "subslide"
    }
   },
   "source": [
    "## Networks\n",
    "\n",
    "The inputs to each neurons either come from the outputs of other neurons or are explicit inputs from the user. This allows you to connect together a large network of neurons:\n",
    "\n",
    "<img src=\"network.png\" alt=\"An artificial neural network\" style=\"width: 400px; margin:0 auto;\"/>\n",
    "\n",
    "In this network every neuron on one layer is connected to every neuron on the next. Every arrow in the diagram has a weight assigned to it.\n",
    "\n",
    "You input values on the left-hand side of the network, and the data flows through the network from layer to layer until the output layer has a value."
   ]
  },
  {
   "cell_type": "markdown",
   "metadata": {
    "slideshow": {
     "slide_type": "subslide"
    }
   },
   "source": [
    "## What shape should the network be?\n",
    "\n",
    "There is some art and some science to deciding the shape of a network. There are rules of thumb (hidden layer size should be similar sized to the input and output layers) but this is one of the things that you need to experiment with and see how it affects performance.\n",
    "\n",
    "The number of hidden layers relates to the level of abstraction you are looking at. Generally, more complex problems need more hidden layers (i.e. deeper networks) but this makes training harder.\n",
    "\n",
    "## How are the weights calculated?\n",
    "\n",
    "The calculation of the weights in a network is done through a process called *training*. This generally uses lots of data examples to iteratively work out good values for the weights."
   ]
  },
  {
   "cell_type": "markdown",
   "metadata": {
    "slideshow": {
     "slide_type": "slide"
    }
   },
   "source": [
    "# How do you train neural networks\n",
    "\n",
    "The main method by which NNs are trained is a technique called *backpropogation*.\n",
    "\n",
    "In order to train your network you need a few things:\n",
    " - A labelled training data set\n",
    " - A labelled test (or evaluation) data set\n",
    " - A set of initial weights"
   ]
  },
  {
   "cell_type": "markdown",
   "metadata": {
    "slideshow": {
     "slide_type": "subslide"
    }
   },
   "source": [
    "## Initial weights\n",
    "\n",
    "The weights to start with are easy: just set them randomly!"
   ]
  },
  {
   "cell_type": "markdown",
   "metadata": {
    "slideshow": {
     "slide_type": "subslide"
    }
   },
   "source": [
    "## Training and testing data sets\n",
    "\n",
    "You will need two data sets. One will be used by the learning algorithm to train the network and the other will be used to report on the quality of the training at the end.\n",
    "\n",
    "It is important that these data sets are disjoint to prevent *overfitting*.\n",
    "\n",
    "It is common to start with one large set of data that you want to learn about and to split it into 80% training data set and 20% test data set."
   ]
  },
  {
   "cell_type": "markdown",
   "metadata": {
    "slideshow": {
     "slide_type": "subslide"
    }
   },
   "source": [
    "## Backpropogation (\"the backward propogation of errors\")\n",
    "\n",
    "Once you have your network structure, your initial weights and your training data set, you can start training.\n",
    "\n",
    "There have been lots of algorithms to do this over the last several decades but the currently most popular one is *backpropogation*.\n",
    "\n",
    "First, we define our *loss function*, a measure of \"how wrong\" we are. For example, $J(y) = (t-y)^2$ where $y$ is the output of the network and $t$ is what we *want* the output to be.\n",
    "\n",
    "We then calculate its derivative with respect to each weight, $D_n(y) = \\frac{dJ(y)}{dw_n}$. This gives how much you need to tweak each weight—and in which direction—to correct the output.\n",
    "\n",
    "Then for each training entry:\n",
    "1. pass it through the network and find the value $y$\n",
    "2. tweak each weight by $\\delta w_n = -R D_n(y)$ where $R$ is the *learning rate*\n",
    " \n",
    "This means that the 'more wrong' the weights are, the more they move towards the true value. This slows down as, after lots of examples, the network *converges*."
   ]
  },
  {
   "cell_type": "markdown",
   "metadata": {
    "slideshow": {
     "slide_type": "subslide"
    }
   },
   "source": [
    "<img src=\"backprop1.png\" alt=\"Back propogation example\" style=\"width: 100%; margin:0 auto;\"/>"
   ]
  },
  {
   "cell_type": "markdown",
   "metadata": {
    "slideshow": {
     "slide_type": "slide"
    }
   },
   "source": [
    "# Common neural network libraries\n",
    "\n",
    "It would, as with with most things, be possible to to the above by hand but that would take years to make any progress. Instead we use software packages to do the leg work for us.\n",
    "\n",
    "The can in general, construct networks, automatically calculate derivatives, perform backpropogation and evaluate performance for you.\n",
    "\n",
    "Some of the most popular are:\n",
    "- PyTorch\n",
    "- TensorFlow\n",
    "- Keras\n",
    "- Caffe2\n",
    "- scikit-learn\n",
    "\n",
    "In this workshop, we will be using TensorFlow with a little bit of Keras."
   ]
  },
  {
   "cell_type": "markdown",
   "metadata": {
    "slideshow": {
     "slide_type": "slide"
    }
   },
   "source": [
    "# Our first neural network: classifying Irises\n",
    "\n",
    "We're going to start with a classic machine learning example, classifying species of Irises.\n",
    "\n",
    "![three iris species](iris_three_species.jpg)\n",
    "\n",
    "Iris setosa, Iris versicolor, and Iris virginica "
   ]
  },
  {
   "cell_type": "markdown",
   "metadata": {
    "slideshow": {
     "slide_type": "subslide"
    }
   },
   "source": [
    "## Data set\n",
    "\n",
    "There [exists a data set of 150 irises](https://en.wikipedia.org/wiki/Iris_flower_data_set), each classified by sepal length and width, and petal length and width.\n",
    "\n",
    "|Sepal length |\tsepal width |\tpetal length |\tpetal width |\tspecies|\n",
    "|--- |\t--- |\t--- |\t--- |\t-|\n",
    "|6.4 |\t2.8 |\t5.6 |\t2.2 |\t2|\n",
    "|5.0 |\t2.3 |\t3.3 |\t1.0 |\t1|\n",
    "|0.9 |\t2.5 |\t4.5 |\t1.7 |\t2|\n",
    "|4.9 |\t3.1 |\t1.5 |\t0.1 |\t0|\n",
    "|... |\t... |\t... |\t... |\t...|\n",
    "\n",
    "Each species label is naturally a string (for example, \"setosa\"), but machine learning typically relies on numeric values. Therefore, someone mapped each string to a number. Here's the representation scheme:\n",
    "\n",
    " - 0 represents setosa\n",
    " - 1 represents versicolor\n",
    " - 2 represents virginica\n"
   ]
  },
  {
   "cell_type": "markdown",
   "metadata": {
    "slideshow": {
     "slide_type": "subslide"
    }
   },
   "source": [
    "<img src=\"Iris_dataset_scatterplot.png\" alt=\"Iris data scatterplot\" style=\"width: 80%; margin:0 auto;\"/>"
   ]
  },
  {
   "cell_type": "markdown",
   "metadata": {
    "slideshow": {
     "slide_type": "subslide"
    }
   },
   "source": [
    "## The code\n",
    "\n",
    "The Python code that we will be running is available at [iris.ipynb](https://colab.research.google.com/github/milliams/intro_deep_learning/blob/master/iris.ipynb). Feel free to follow along with that file but the important parts of the code will be on these slides."
   ]
  },
  {
   "cell_type": "markdown",
   "metadata": {
    "slideshow": {
     "slide_type": "subslide"
    }
   },
   "source": [
    "## Loading our data\n",
    "\n",
    "We start by loading in our data. To make this easier we use scikit-learn which gives us a [`load_iris()`](https://scikit-learn.org/stable/modules/generated/sklearn.datasets.load_iris.html) function.\n",
    "\n",
    "```python\n",
    ">>> X = load_iris().data\n",
    ">>> y = load_iris().target\n",
    "```\n",
    "\n",
    "Splitting it into training and test datasets gives us our data ready to use:\n",
    "\n",
    "```python\n",
    ">>> X_train, X_test, y_train, y_test = train_test_split(X, y)\n",
    ">>> X_train[:3]\n",
    "array([[4.4, 2.9, 1.4, 0.2],\n",
    "       [6.1, 2.8, 4. , 1.3],\n",
    "       [5.2, 3.4, 1.4, 0.2]])\n",
    ">>> y_train[:3]\n",
    "array([0, 1, 0])\n",
    ">>> X_train.shape\n",
    "(112, 4)\n",
    ">>> y_train.shape\n",
    "(112,)\n",
    "```"
   ]
  },
  {
   "cell_type": "markdown",
   "metadata": {
    "slideshow": {
     "slide_type": "subslide"
    }
   },
   "source": [
    "## Prepping our data\n",
    "\n",
    "Once we have our raw data, we need to prepare it to be used by the training algorithm. We have our training examples but we want to show them all to the netweork, over-and-over-again in random orders to nudge the network towards a solution.\n",
    "\n",
    "- First it converts the input data format to a TensorFlow `Dataset`\n",
    "- Then it makes the dataset repeat forever so we can keep on training from it\n",
    "- Then we shuffle the examples in batches of 1000 to randomise the learning\n",
    "- Finally we batch up the examples for consumption by the training\n",
    "\n",
    "```python\n",
    "train = tf.data.Dataset.from_tensor_slices((X_train, y_train))\n",
    "train = train.repeat().shuffle(1000).batch(32)\n",
    "```\n",
    "\n",
    "We do similar to the test data but only convert and batch it:\n",
    "\n",
    "```python\n",
    "test = tf.data.Dataset.from_tensor_slices((X_test, y_test)).batch(1)\n",
    "```\n",
    "\n"
   ]
  },
  {
   "cell_type": "markdown",
   "metadata": {
    "slideshow": {
     "slide_type": "subslide"
    }
   },
   "source": [
    "## Designing our network\n",
    "\n",
    "TensorFlow has support for building networks with Keras built-in. This lets you build your network layer-by-layer.\n",
    "\n",
    "We define that there are 4 input features, then two hidden layer with 10 neurons each and finally an output layer with 3 neurons:\n",
    "\n",
    "```python\n",
    "model = tf.keras.Sequential([\n",
    "  tf.keras.Input((4,)),\n",
    "  tf.keras.layers.Dense(10, activation=tf.nn.relu),\n",
    "  tf.keras.layers.Dense(10, activation=tf.nn.relu),\n",
    "  tf.keras.layers.Dense(3, activation=tf.nn.softmax)\n",
    "])\n",
    "```\n",
    "\n",
    "We use `softmax` on the final layer to give us nice probabilites as the output."
   ]
  },
  {
   "cell_type": "markdown",
   "metadata": {
    "slideshow": {
     "slide_type": "subslide"
    }
   },
   "source": [
    "## Describing the training\n",
    "\n",
    "Before we can train the model we need to specify some details about how the algorithm should progress.\n",
    "\n",
    "At each step of the training we need to know \"how wrong are we\" as a single number. If for example for a given run of the network, the output looks like `[0.4, 0.3, 0.3]` with a correct label of `0` we need a function to compare them and give us a single \"error\" (e.g. `1.13`).\n",
    "\n",
    "The loss function describes *how wrong* we are, the optimizer defines *how we reduce* that loss. In this case, [*Adam*](https://arxiv.org/abs/1412.6980) is a sort of gradient descent.\n",
    "\n",
    "```python\n",
    "model.compile(\n",
    "    loss='sparse_categorical_crossentropy',\n",
    "    optimizer='adam',\n",
    "    metrics=['accuracy']\n",
    ")\n",
    "```\n",
    "\n",
    "The metrics are only there to show us information during training to monitor progress."
   ]
  },
  {
   "cell_type": "markdown",
   "metadata": {
    "slideshow": {
     "slide_type": "subslide"
    }
   },
   "source": [
    "## Training our network\n",
    "\n",
    "To train our network, all we need to do is call the `fit` method on the model object we just created.\n",
    "\n",
    "It takes a number of arguments, the most important of which is the data to use to train the model. We can also pass in the data to validate the training against (to avoid overfitting) as well as how many batches define an epoch and how many epochs to do.\n",
    "\n",
    "```python\n",
    "model.fit(\n",
    "    train,\n",
    "    validation_data=test,\n",
    "    steps_per_epoch=150,\n",
    "    epochs=10,\n",
    ")\n",
    "```\n",
    "\n",
    "At this point, TensorFlow will go ahead and train the network, outputting its progress to the screen. It should take a few seconds to run."
   ]
  },
  {
   "cell_type": "markdown",
   "metadata": {
    "slideshow": {
     "slide_type": "subslide"
    }
   },
   "source": [
    "## Evaluating our model\n",
    "\n",
    "We want to check how good a job the training did so we should look at the output of the `fit()` function. As well as printing the loss on the training data (which is what it uses to progress) it also prints the loss and accuracy of the test data set.\n",
    "\n",
    "For example, the last epoch has this (or similar) output:\n",
    "\n",
    "```\n",
    "Epoch 10/10\n",
    "150/150 [==============================] - 0s 1ms/step\n",
    "  - loss: 0.6478\n",
    "  - accuracy: 0.9744\n",
    "  - val_loss: 0.6343\n",
    "  - val_accuracy: 0.9474\n",
    "```\n",
    "\n",
    "telling us that the network classified the test data set with a 94.7% accuracy."
   ]
  },
  {
   "cell_type": "markdown",
   "metadata": {
    "slideshow": {
     "slide_type": "subslide"
    }
   },
   "source": [
    "## Use the model\n",
    "\n",
    "Finally, we want to use the model to make a prediction about the real world. Given a few examples of irises, we evaluate them using the model and compare the results to what would expect:\n",
    "\n",
    "```python\n",
    "predict_true_labels = [\"setosa\", \"versicolor\", \"virginica\"]\n",
    "predict_X = [\n",
    "  [5.1, 3.3, 1.7, 0.5],\n",
    "  [5.9, 3.0, 4.2, 1.5],\n",
    "  [6.9, 3.1, 5.4, 2.1],\n",
    "]\n",
    "\n",
    "predictions = model.predict(predict_X)\n",
    "\n",
    "[load_iris().target_names[p.argmax()] for p in predictions]\n",
    "```\n",
    "\n",
    "giving us\n",
    "\n",
    "```python\n",
    "['setosa', 'versicolor', 'virginica']\n",
    "```\n",
    "\n",
    "Note that `predict_true_labels` is not used in the process at all."
   ]
  },
  {
   "cell_type": "markdown",
   "metadata": {
    "slideshow": {
     "slide_type": "subslide"
    }
   },
   "source": [
    "## Run it yourself\n",
    "\n",
    "To see all the code and run the training for yourself, go to https://colab.research.google.com/github/milliams/intro_deep_learning/blob/master/iris.ipynb. If you are not already logged in to your Google account then you will see a \"Sign in\" button in the top-right. Click this and get yourself logged in. Then press the \"Connect\" button in the top-right which you should see change to a green tick and a RAM/Disk meter.\n",
    "\n",
    "Then go to \"Runtime\" at the top of the page and click \"Run all\". It will ask you to confirm running the untrusted code so if you trust me, click \"Run anyway\". It will then start running each of the code cells in-turn.\n",
    "\n",
    "Once it is finished you should see:\n",
    "```\n",
    "✓ Prediction is 'setosa' (97.8%), expected 'setosa'\n",
    "✓ Prediction is 'versicolor' (86.7%), expected 'versicolor'\n",
    "✓ Prediction is 'virginica' (80.9%), expected 'virginica'\n",
    "```"
   ]
  },
  {
   "cell_type": "markdown",
   "metadata": {
    "slideshow": {
     "slide_type": "slide"
    }
   },
   "source": [
    "# Introduction to image analysis\n",
    "\n",
    "The iris example worked well but the big downside is that it required manual processing of the real-world data before it could be modelled. Someone had to go with a ruler and measure the lengths and widths of each of the flowers. A more common and easily obtainable corpus is images.\n",
    "\n",
    "There have been many advancements in image analysis but at the core of most of them is *kernel convolution*. This starts by treating the image as a grid of numbers, where each number represents the brightness of the pixel\n",
    "\n",
    "$$\n",
    "\\begin{matrix} \n",
    "105 & 102 & 100 & 97 & 96 & \\dots \\\\\n",
    "103 & 99 & 103 & 101 & 102 & \\dots \\\\\n",
    "101 & 98 & 104 & 102 & 100 & \\dots \\\\\n",
    "99 & 101 & 106 & 104 & 99 & \\dots \\\\\n",
    "104 & 104 & 104 & 100 & 98 & \\dots \\\\\n",
    "\\vdots & \\vdots & \\vdots & \\vdots & \\vdots & \\ddots\n",
    "\\end{matrix}\n",
    "$$\n"
   ]
  },
  {
   "cell_type": "markdown",
   "metadata": {
    "slideshow": {
     "slide_type": "subslide"
    }
   },
   "source": [
    "## Define a kernel\n",
    "\n",
    "You can then create a *kernel* which defines a filter to be applied to the image:\n",
    "\n",
    "$$\n",
    "Kernel = \\begin{bmatrix}\n",
    "0 & -1 & 0 \\\\\n",
    "-1 & 5 & -1 \\\\\n",
    "0 & -1 & 0\n",
    "\\end{bmatrix}\n",
    "$$\n",
    "\n",
    "Depending on the values in the kernel, different filtering operations will be performed. The most common are:\n",
    "\n",
    " - sharpen (shown above)\n",
    " - blur\n",
    " - edge detection (directional or isotropic)\n",
    " \n",
    "The values of the kernels are created by mathematical analysis and are generally fixed. You can see some examples on the [Wikipedia page on kernels](https://en.wikipedia.org/wiki/Kernel_%28image_processing%29)."
   ]
  },
  {
   "cell_type": "markdown",
   "metadata": {
    "slideshow": {
     "slide_type": "subslide"
    }
   },
   "source": [
    "## Applying a kernel\n",
    "\n",
    "This kernel is then overlaid over each set of pizels in the image, corresponding values are multiplied and then the total is summed:\n",
    "\n",
    "<img src=\"conv1.jpg\" alt=\"Convolution\" style=\"width: 600px; margin:0 auto;\"/>"
   ]
  },
  {
   "cell_type": "markdown",
   "metadata": {
    "slideshow": {
     "slide_type": "subslide"
    }
   },
   "source": [
    "## First pixel\n",
    "\n",
    "![Convolution](conv3.jpg)"
   ]
  },
  {
   "cell_type": "markdown",
   "metadata": {
    "slideshow": {
     "slide_type": "subslide"
    }
   },
   "source": [
    "## Second pixel\n",
    "\n",
    "![Convolution](conv4.jpg)"
   ]
  },
  {
   "cell_type": "markdown",
   "metadata": {
    "slideshow": {
     "slide_type": "subslide"
    }
   },
   "source": [
    "## Dealing with edges\n",
    "\n",
    "![Convolution](conv5.jpg)"
   ]
  },
  {
   "cell_type": "markdown",
   "metadata": {
    "slideshow": {
     "slide_type": "subslide"
    }
   },
   "source": [
    "## Before and after\n",
    "\n",
    "If using a Sobel edge detection kernel, you will see the following effect\n",
    "\n",
    "![Before and after](filter.jpg)"
   ]
  },
  {
   "cell_type": "markdown",
   "metadata": {
    "slideshow": {
     "slide_type": "slide"
    }
   },
   "source": [
    "# Convolutional neural networks\n",
    "\n",
    "At the core of convolutional neural networks (CNNs) is their ability to create abstract feature detectors automatically. If carefully combined, you can create a network which has layers of abstraction going from \"is there an edge here\" to \"is there an eye here\" to \"is this a person\".\n",
    "\n",
    "From a neural network perspective, there is little different in training. You can simply treat each element of the convolution kernel as a weight as we did before. The backpropogation algorithm will automatically learn the correct values to describe the training data set."
   ]
  },
  {
   "cell_type": "markdown",
   "metadata": {
    "slideshow": {
     "slide_type": "subslide"
    }
   },
   "source": [
    "CNNs apply a series of filters to the raw pixel data of an image to extract and learn higher-level features, which the model can then use for classification. They usually contain three components:\n",
    "\n",
    " - *Convolutional layers*, which apply a specified number of convolution filters to the image. For each subregion, the layer performs a set of mathematical operations to produce a single value in the output feature map.\n",
    " \n",
    " - *Pooling layers*, which downsample the image data extracted by the convolutional layers to reduce the dimensionality of the feature map in order to decrease processing time. A commonly used pooling algorithm is *max pooling*, which extracts subregions of the feature map (e.g., 2x2-pixel tiles), keeps their maximum value, and discards all other values.\n",
    " \n",
    " - *Dense (fully connected) layers*, which perform classification on the features extracted by the convolutional layers and downsampled by the pooling layers. In a dense layer, every node in the layer is connected to every node in the preceding layer.\n"
   ]
  },
  {
   "cell_type": "markdown",
   "metadata": {
    "slideshow": {
     "slide_type": "subslide"
    }
   },
   "source": [
    "## Typical CNN\n",
    "\n",
    "![Typical CNN](typical_cnn.png)"
   ]
  },
  {
   "cell_type": "markdown",
   "metadata": {
    "slideshow": {
     "slide_type": "subslide"
    }
   },
   "source": [
    "## Image segmentation\n",
    "\n",
    "![Mapillary](mapillary.jpg)"
   ]
  },
  {
   "cell_type": "markdown",
   "metadata": {
    "slideshow": {
     "slide_type": "subslide"
    }
   },
   "source": [
    "## Learn painting styles\n",
    "\n",
    "![Deep Painterly](deeppainterly.png)"
   ]
  },
  {
   "cell_type": "markdown",
   "metadata": {
    "slideshow": {
     "slide_type": "subslide"
    }
   },
   "source": [
    "## Nature\n",
    "\n",
    "![cat](cat.jpg)"
   ]
  },
  {
   "cell_type": "markdown",
   "metadata": {
    "slideshow": {
     "slide_type": "slide"
    }
   },
   "source": [
    "# Handwriting recognition\n",
    "\n",
    "The MNIST data set is a collection of 70,000 28×28 pixel images of scanned, handwritten digits.\n",
    "\n",
    "![MNIST examples](MnistExamples.png)\n",
    "\n",
    "We want to create a network which can, given a similar image of a digit, identify its value."
   ]
  },
  {
   "cell_type": "markdown",
   "metadata": {
    "slideshow": {
     "slide_type": "subslide"
    }
   },
   "source": [
    "## Using TensorFow to create and train a network\n",
    "\n",
    "In TensorFlow, there are three main tasks needed before you can start training. You must:\n",
    "\n",
    " 1. Specify the shape of your network\n",
    " 2. Specify how the network should be trained\n",
    " 3. Specify your training data set\n",
    " \n",
    "We will now go through each of these to show how the parts fit together.\n",
    "\n",
    "The code we are using is available at [mnist.ipynb](https://github.com/milliams/intro_deep_learning/blob/master/mnist.ipynb) so feel free to have a peek but the important bits will be on these slides."
   ]
  },
  {
   "cell_type": "markdown",
   "metadata": {
    "slideshow": {
     "slide_type": "subslide"
    }
   },
   "source": [
    "## Designing the CNN\n",
    "\n",
    "We will create a network which fits the following design:\n",
    "\n",
    " 1. **Convolutional Layer #1**: Applies 16 5×5 filters (extracting 5×5-pixel subregions), with [ReLU](https://en.wikipedia.org/wiki/Rectifier_(neural_networks) activation function\n",
    " 2. **Pooling Layer #1**: Performs max pooling with a 2×2 filter and stride of 2 (which specifies that pooled regions do not overlap)\n",
    " 3. **Convolutional Layer #2**: Applies 32 5×5 filters, with ReLU activation function\n",
    " 4. **Pooling Layer #2**: Again, performs max pooling with a 2×2 filter and stride of 2\n",
    " 5. **Dense Layer #1**: 128 neurons, with dropout regularization rate of 0.4 (probability of 40% that any given element will be dropped during training)\n",
    " 6. **Dense Layer #2 (Logits Layer)**: 10 neurons, one for each digit target class (0–9).\n",
    "\n",
    "This struture has been designed and tweaked specifically for the problem of classifying the MNIST data, however in general it is a good starting point for any similar image classification problem."
   ]
  },
  {
   "cell_type": "markdown",
   "metadata": {
    "slideshow": {
     "slide_type": "subslide"
    }
   },
   "source": [
    "## Building the CNN\n",
    "\n",
    "We're using TensorFlow to create our CNN but we're able to use the Keras API inside it to simplify the network construction. We build up our network sequentially, layer-by-layer.\n",
    "\n",
    "### First convolutional layer\n",
    "\n",
    "We start with our first convolutional layer. It create 16 5×5 filters. Since we have specified `padding=\"same\"`, the size of the layer will still be 28×28 but as we specified 16 filters, the overall size of the layer will be 28×28×16=12,544.\n",
    "\n",
    "```python\n",
    "model = tf.keras.models.Sequential([\n",
    "    tf.keras.layers.Conv2D(\n",
    "        filters=16,\n",
    "        kernel_size=5,\n",
    "        padding=\"same\",\n",
    "        activation=tf.nn.relu),\n",
    "])\n",
    "```"
   ]
  },
  {
   "cell_type": "markdown",
   "metadata": {
    "slideshow": {
     "slide_type": "subslide"
    }
   },
   "source": [
    "### First pooling layer\n",
    "\n",
    "Next we add in a pooling layer. This reduces the size of the image by a factor of two in each direction (now effectively a 14×14 pixel image). This is important to reduce memory usage and to allow feature generalisation.\n",
    "\n",
    "```python\n",
    "max_pool = tf.keras.layers.MaxPool2D((2, 2), (2, 2), padding=\"same\")\n",
    "\n",
    "model = tf.keras.models.Sequential([\n",
    "    tf.keras.layers.Conv2D(\n",
    "        filters=16,\n",
    "        kernel_size=5,\n",
    "        padding=\"same\",\n",
    "        activation=tf.nn.relu),\n",
    "    max_pool,\n",
    "])\n",
    "```\n",
    "\n",
    "After pooling, the layer size is 14×14×16=3136."
   ]
  },
  {
   "cell_type": "markdown",
   "metadata": {
    "slideshow": {
     "slide_type": "subslide"
    }
   },
   "source": [
    "### Second convolutional and pooling layers\n",
    "\n",
    "We then add in our second convolution and pooling layers which reduce the image size while increasing the width of the network so we can describe more features:\n",
    "\n",
    "```python\n",
    "max_pool = tf.keras.layers.MaxPool2D((2, 2), (2, 2), padding=\"same\")\n",
    "\n",
    "model = tf.keras.models.Sequential([\n",
    "    tf.keras.layers.Conv2D(\n",
    "        filters=16,\n",
    "        kernel_size=5,\n",
    "        padding=\"same\",\n",
    "        activation=tf.nn.relu),\n",
    "    max_pool,\n",
    "    tf.keras.layers.Conv2D(\n",
    "        filters=32,\n",
    "        kernel_size=5,\n",
    "        padding=\"same\",\n",
    "        activation=tf.nn.relu),\n",
    "    max_pool,\n",
    "])\n",
    "```\n",
    "\n",
    "After this final convolution and pooling, we have a layer of size 7×7×32=1568."
   ]
  },
  {
   "cell_type": "markdown",
   "metadata": {
    "slideshow": {
     "slide_type": "subslide"
    }
   },
   "source": [
    "### Fully-connected section\n",
    "\n",
    "Finally, we get to the fully-connected part of the network. At this point we no longer consider this an 'image' any more so we flatten our 3D layer into a linear set of nodes. We then add in a dense (fully-connected) layer with 128 neurons.\n",
    "\n",
    "To avoid over-fitting, we apply *dropout regularization* to our dense layer which causes it to randomly ignore 40% of the nodes each training cycle (to help avoid overfitting) before adding in our final layer which has 10 neurons which we expect to relate to each of our 10 classes (the numbers 0-9):\n",
    "\n",
    "```python\n",
    "model = tf.keras.models.Sequential([\n",
    "    ...\n",
    "    tf.keras.layers.Flatten(),\n",
    "    tf.keras.layers.Dense(128, activation=\"relu\"),\n",
    "    tf.keras.layers.Dropout(0.4),\n",
    "    tf.keras.layers.Dense(10, activation=\"softmax\")\n",
    "])\n",
    "```"
   ]
  },
  {
   "cell_type": "markdown",
   "metadata": {
    "slideshow": {
     "slide_type": "subslide"
    }
   },
   "source": [
    "## Telling it how to train\n",
    "\n",
    "To finalise our model we once more use sparse, categorical cross-entropy as the loss function and Adam as the optimiser:\n",
    "\n",
    "```python\n",
    "model.compile(\n",
    "    loss=\"sparse_categorical_crossentropy\",\n",
    "    optimizer=\"adam\",\n",
    "    metrics=[\"accuracy\"],\n",
    ")\n",
    "```\n",
    "\n",
    "Sparse categorical cross-entropy should be used when you have a classification problem and the labels being used are the index of the desired class."
   ]
  },
  {
   "cell_type": "markdown",
   "metadata": {
    "slideshow": {
     "slide_type": "subslide"
    }
   },
   "source": [
    "## Getting the data into Python\n",
    "\n",
    "We've now finished designing our network so we can start getting our data into place. TensorFlow comes with a built-in loaded for the MNIST dataset which has a pre-configured train/test split:\n",
    "\n",
    "```python\n",
    "(ds_train, ds_test), ds_info = tfds.load(\n",
    "    \"mnist\",\n",
    "    split=[\"train\", \"test\"],\n",
    "    shuffle_files=True,\n",
    "    as_supervised=True,\n",
    "    with_info=True,\n",
    ")\n",
    "```\n",
    "\n",
    "`ds_train` and `ds_test` are both sequences of 28×28×1 matrices containing the numbers 0-255. Each example also has a label associated with it which is a single integer scalar from 0-9."
   ]
  },
  {
   "cell_type": "markdown",
   "metadata": {
    "slideshow": {
     "slide_type": "subslide"
    }
   },
   "source": [
    "## Creating the training dataset\n",
    "\n",
    "The first thing we need to do with our data is convert it from being in the range 0-255 to being in the range 0.0-1.0:\n",
    "\n",
    "```python\n",
    "def normalize_img(image, label):\n",
    "    return tf.cast(image, tf.float32) / 255., label\n",
    "\n",
    "ds_train = ds_train.map(normalize_img)\n",
    "```\n",
    "\n",
    "Then we cache the results of this (for speed reasons), shuffle each complete input set and collect them into batches of 128:\n",
    "\n",
    "```python\n",
    "ds_train = ds_train.cache()\n",
    "ds_train = ds_train.shuffle(ds_info.splits[\"train\"].num_examples)\n",
    "ds_train = ds_train.batch(128)\n",
    "ds_train = ds_train.prefetch(tf.data.experimental.AUTOTUNE)\n",
    "```\n",
    "\n",
    "`.prefetch` here is another optimisation to allow it to collect the data for the next epoch while the previous one is running."
   ]
  },
  {
   "cell_type": "markdown",
   "metadata": {
    "slideshow": {
     "slide_type": "subslide"
    }
   },
   "source": [
    "## Creating the test dataset\n",
    "\n",
    "In order for it to be a fair comparison, we need to do some of the same pre-processing to the test dataset too:\n",
    "\n",
    "```python\n",
    "ds_test = ds_test.map(normalize_img)\n",
    "ds_test = ds_test.batch(128)\n",
    "ds_test = ds_test.cache()\n",
    "ds_test = ds_test.prefetch(tf.data.experimental.AUTOTUNE)\n",
    "```"
   ]
  },
  {
   "cell_type": "markdown",
   "metadata": {
    "slideshow": {
     "slide_type": "subslide"
    }
   },
   "source": [
    "## Fitting the model to the data\n",
    "\n",
    "At this point, we're all ready to go. We call the `fit` method on the model, passing in the training data, how long to run for and the test dataset:\n",
    "\n",
    "```python\n",
    "model.fit(\n",
    "    ds_train,\n",
    "    epochs=1,\n",
    "    validation_data=ds_test,\n",
    ")\n",
    "```"
   ]
  },
  {
   "cell_type": "markdown",
   "metadata": {
    "slideshow": {
     "slide_type": "subslide"
    }
   },
   "source": [
    "## Run it yourself\n",
    "\n",
    "To run this example, go to https://colab.research.google.com/github/milliams/intro_deep_learning/blob/master/mnist.ipynb\n",
    "\n",
    "Before running it, go to \"Runtime\" and \"Change runtime type\". Under \"Hardware accelerator\" choose GPU and press \"Save\".\n",
    "\n",
    "Then go to \"Runtime\" at the top of the page and click \"Run all\". It will ask you to confirm running the untrusted code so if you trust me, click \"Run anyway\". It will then start running each of the code cells in-turn.\n",
    "\n",
    "(If you don't set the runtime to GPU, it will still work but will be 10-100 times slower)"
   ]
  },
  {
   "cell_type": "markdown",
   "metadata": {
    "slideshow": {
     "slide_type": "subslide"
    }
   },
   "source": [
    "## Now we wait...\n",
    "\n",
    "![Waiting](https://imgs.xkcd.com/comics/compiling.png)"
   ]
  },
  {
   "cell_type": "markdown",
   "metadata": {
    "slideshow": {
     "slide_type": "subslide"
    }
   },
   "source": [
    "## Check the output\n",
    "\n",
    "Once it is finished at the end you should see something like:\n",
    "\n",
    "```\n",
    "1 at  0.2%. CNN thinks it's a 3 (38.0%)\n",
    "2 at 91.2%. CNN thinks it's a 2 (91.2%)\n",
    "3 at 57.6%. CNN thinks it's a 3 (57.6%)\n",
    "4 at  0.0%. CNN thinks it's a 3 (99.1%)\n",
    "5 at 99.9%. CNN thinks it's a 5 (99.9%)\n",
    "6 at  1.3%. CNN thinks it's a 5 (49.9%)\n",
    "7 at 65.4%. CNN thinks it's a 7 (65.4%)\n",
    "8 at  3.9%. CNN thinks it's a 3 (48.6%)\n",
    "9 at  0.6%. CNN thinks it's a 8 (40.7%)\n",
    "dog. CNN thinks it's a 2 (50.6%)\n",
    "\n",
    "```\n",
    "\n",
    "Or, in a more useful table form..."
   ]
  },
  {
   "cell_type": "markdown",
   "metadata": {
    "slideshow": {
     "slide_type": "subslide"
    }
   },
   "source": [
    "<table cellpadding=\"0\" style=\"border-collapse: collapse; border-style: hidden;\">\n",
    "    <thead>\n",
    "    <tr>\n",
    "    <td><b>Image</b></td>\n",
    "    <td><b>0</b></td>\n",
    "    <td><b>1</b></td>\n",
    "    <td><b>2</b></td>\n",
    "    <td><b>3</b></td>\n",
    "    <td><b>4</b></td>\n",
    "    <td><b>5</b></td>\n",
    "    <td><b>6</b></td>\n",
    "    <td><b>7</b></td>\n",
    "    <td><b>8</b></td>\n",
    "    <td><b>9</b></td>\n",
    "    </tr>\n",
    "    </thead>\n",
    "    <tbody>\n",
    "<tr>\n",
    "<td><img src=\"1.png\" style=\"margin: 1px 0px\"></td>\n",
    "<td>0%</td>\n",
    "<td>0%</td>\n",
    "<td>15%</td>\n",
    "<td style=\"color:red;\">38%</td>\n",
    "<td>0%</td>\n",
    "<td>14%</td>\n",
    "<td>1%</td>\n",
    "<td>0%</td>\n",
    "<td>32%</td>\n",
    "<td>0%</td>\n",
    "</tr>\n",
    "<tr>\n",
    "<td><img src=\"2.png\" style=\"margin: 1px 0px\"></td>\n",
    "<td>0%</td>\n",
    "<td>0%</td>\n",
    "<td style=\"color:green;\">91%</td>\n",
    "<td>6%</td>\n",
    "<td>0%</td>\n",
    "<td>0%</td>\n",
    "<td>2%</td>\n",
    "<td>0%</td>\n",
    "<td>0%</td>\n",
    "<td>0%</td>\n",
    "</tr>\n",
    "<tr>\n",
    "<td><img src=\"3.png\" style=\"margin: 1px 0px\"></td>\n",
    "<td>0%</td>\n",
    "<td>0%</td>\n",
    "<td>13%</td>\n",
    "<td style=\"color:green;\">58%</td>\n",
    "<td>0%</td>\n",
    "<td>8%</td>\n",
    "<td>1%</td>\n",
    "<td>0%</td>\n",
    "<td>20%</td>\n",
    "<td>0%</td>\n",
    "</tr>\n",
    "<tr>\n",
    "<td><img src=\"4.png\" style=\"margin: 1px 0px\"></td>\n",
    "<td>0%</td>\n",
    "<td>0%</td>\n",
    "<td>0%</td>\n",
    "<td style=\"color:red;\">99%</td>\n",
    "<td>0%</td>\n",
    "<td>0%</td>\n",
    "<td>0%</td>\n",
    "<td>0%</td>\n",
    "<td>0%</td>\n",
    "<td>0%</td>\n",
    "</tr>\n",
    "<tr>\n",
    "<td><img src=\"5.png\" style=\"margin: 1px 0px\"></td>\n",
    "<td>0%</td>\n",
    "<td>0%</td>\n",
    "<td>0%</td>\n",
    "<td>0%</td>\n",
    "<td>0%</td>\n",
    "<td style=\"color:green;\">100%</td>\n",
    "<td>0%</td>\n",
    "<td>0%</td>\n",
    "<td>0%</td>\n",
    "<td>0%</td>\n",
    "</tr>\n",
    "<tr>\n",
    "<td><img src=\"6.png\" style=\"margin: 1px 0px\"></td>\n",
    "<td>1%</td>\n",
    "<td>0%</td>\n",
    "<td>0%</td>\n",
    "<td>23%</td>\n",
    "<td>0%</td>\n",
    "<td style=\"color:red;\">50%</td>\n",
    "<td>1%</td>\n",
    "<td>0%</td>\n",
    "<td>25%</td>\n",
    "<td>0%</td>\n",
    "</tr>\n",
    "<tr>\n",
    "<td><img src=\"7.png\" style=\"margin: 1px 0px\"></td>\n",
    "<td>1%</td>\n",
    "<td>0%</td>\n",
    "<td>2%</td>\n",
    "<td>5%</td>\n",
    "<td>0%</td>\n",
    "<td>23%</td>\n",
    "<td>2%</td>\n",
    "<td style=\"color:green;\">65%</td>\n",
    "<td>2%</td>\n",
    "<td>0%</td>\n",
    "</tr>\n",
    "<tr>\n",
    "<td><img src=\"8.png\" style=\"margin: 1px 0px\"></td>\n",
    "<td>1%</td>\n",
    "<td>0%</td>\n",
    "<td>4%</td>\n",
    "<td style=\"color:red;\">49%</td>\n",
    "<td>0%</td>\n",
    "<td>40%</td>\n",
    "<td>1%</td>\n",
    "<td>1%</td>\n",
    "<td>4%</td>\n",
    "<td>0%</td>\n",
    "</tr>\n",
    "<tr>\n",
    "<td><img src=\"9.png\" style=\"margin: 1px 0px\"></td>\n",
    "<td>1%</td>\n",
    "<td>0%</td>\n",
    "<td>19%</td>\n",
    "<td>32%</td>\n",
    "<td>0%</td>\n",
    "<td>4%</td>\n",
    "<td>2%</td>\n",
    "<td>1%</td>\n",
    "<td style=\"color:red;\">41%</td>\n",
    "<td>1%</td>\n",
    "</tr>\n",
    "<tr>\n",
    "<td><img src=\"dog.png\" style=\"margin: 1px 0px\"></td>\n",
    "<td>0%</td>\n",
    "<td>0%</td>\n",
    "<td style=\"color:red;\">51%</td>\n",
    "<td>28%</td>\n",
    "<td>0%</td>\n",
    "<td>5%</td>\n",
    "<td>1%</td>\n",
    "<td>0%</td>\n",
    "<td>15%</td>\n",
    "<td>0%</td>\n",
    "</tr>\n",
    "</tbody>\n",
    "    </table>\n",
    "\n",
    "`2` and `5` seem to have worked well and `3` and `7` have the correct answer with a low probability but the rest are struggling.\n",
    "\n",
    "Your results will likely be different but they will probably have the same strengths and weaknesses."
   ]
  },
  {
   "cell_type": "markdown",
   "metadata": {
    "slideshow": {
     "slide_type": "subslide"
    }
   },
   "source": [
    "## Data augmentation\n",
    "\n",
    "The problem we're seeing here is caused by our training set being a bit restrictive. The network can only learn from what we show it, so if we want it to be able to understand black-on-white writing as well as white-on-black then we need to show it some labelled examples of *that* too.\n",
    "\n",
    "If you're training your network to recognise dogs then you don't just want good-looking, well-lit photos of dogs straight on. You want to be able to recognise a variety of angles, lighting conditions, framings etc. Some of these can only be improved by supplying a wider range of input (e.g. by taking new photos) but you can go a long way to improving your resiliency to test data by automatically creating new examples by inverting, blurring, rotating, adding noise, scaling etc. your training data. This is known as *data augmentation*.\n",
    "\n",
    "In general, data augmentation is an important part of training any network but it is particularly useful for CNNs."
   ]
  },
  {
   "cell_type": "markdown",
   "metadata": {
    "slideshow": {
     "slide_type": "subslide"
    }
   },
   "source": [
    "## Inverting the images\n",
    "\n",
    "In our case we're going to simply add colour-inverted versions of the data to our training data set.\n",
    "\n",
    "We use the `Dataset.map()` and `Dataset.concatenate()` methods to double up our training set with a set of images where all the values have been inverted in the range 0-1.\n",
    "\n",
    "```python\n",
    "def invert(image, label):\n",
    "    return (tf.cast(image, tf.float32) * -1.0) + 1.0, label\n",
    "\n",
    "inverted = ds_train.map(invert)\n",
    "ds_train = ds_train.concatenate(inverted)\n",
    "```\n",
    "\n",
    "This is done after the normalisation but before any of the caching or batching and is done to both the training and the test data sets."
   ]
  },
  {
   "cell_type": "markdown",
   "metadata": {
    "slideshow": {
     "slide_type": "subslide"
    }
   },
   "source": [
    "## Run it again\n",
    "\n",
    "Go back to the Colab page for `mnist.ipynb` and this time change the code in the first cell from:\n",
    "\n",
    "```python\n",
    "INVERT = False\n",
    "```\n",
    "\n",
    "to\n",
    "\n",
    "```python\n",
    "INVERT = True\n",
    "```\n",
    "\n",
    "and redo the \"Runtime\" → \"Run all\".\n",
    "\n",
    "Check the output when it is done and you should see a significant improvement."
   ]
  },
  {
   "cell_type": "markdown",
   "metadata": {
    "slideshow": {
     "slide_type": "subslide"
    }
   },
   "source": [
    "<table cellpadding=\"0\" style=\"border-collapse: collapse; border-style: hidden;\">\n",
    "    <thead>\n",
    "    <tr>\n",
    "    <td><b>Image</b></td>\n",
    "    <td><b>0</b></td>\n",
    "    <td><b>1</b></td>\n",
    "    <td><b>2</b></td>\n",
    "    <td><b>3</b></td>\n",
    "    <td><b>4</b></td>\n",
    "    <td><b>5</b></td>\n",
    "    <td><b>6</b></td>\n",
    "    <td><b>7</b></td>\n",
    "    <td><b>8</b></td>\n",
    "    <td><b>9</b></td>\n",
    "    </tr>\n",
    "    </thead>\n",
    "    <tbody>\n",
    "<tr>\n",
    "<td><img src=\"1.png\" style=\"margin: 1px 0px\"></td>\n",
    "<td>1%</td>\n",
    "<td style=\"color:green;\">71%</td>\n",
    "<td>9%</td>\n",
    "<td>3%</td>\n",
    "<td>1%</td>\n",
    "<td>3%</td>\n",
    "<td>2%</td>\n",
    "<td>6%</td>\n",
    "<td>3%</td>\n",
    "<td>1%</td>\n",
    "</tr>\n",
    "<tr>\n",
    "<td><img src=\"2.png\" style=\"margin: 1px 0px\"></td>\n",
    "<td>0%</td>\n",
    "<td>0%</td>\n",
    "<td style=\"color:green;\">100%</td>\n",
    "<td>0%</td>\n",
    "<td>0%</td>\n",
    "<td>0%</td>\n",
    "<td>0%</td>\n",
    "<td>0%</td>\n",
    "<td>0%</td>\n",
    "<td>0%</td>\n",
    "</tr>\n",
    "<tr>\n",
    "<td><img src=\"3.png\" style=\"margin: 1px 0px\"></td>\n",
    "<td>0%</td>\n",
    "<td>0%</td>\n",
    "<td>0%</td>\n",
    "<td style=\"color:green;\">100%</td>\n",
    "<td>0%</td>\n",
    "<td>0%</td>\n",
    "<td>0%</td>\n",
    "<td>0%</td>\n",
    "<td>0%</td>\n",
    "<td>0%</td>\n",
    "</tr>\n",
    "<tr>\n",
    "<td><img src=\"4.png\" style=\"margin: 1px 0px\"></td>\n",
    "<td>0%</td>\n",
    "<td>0%</td>\n",
    "<td>0%</td>\n",
    "<td>0%</td>\n",
    "<td style=\"color:green;\">100%</td>\n",
    "<td>0%</td>\n",
    "<td>0%</td>\n",
    "<td>0%</td>\n",
    "<td>0%</td>\n",
    "<td>0%</td>\n",
    "</tr>\n",
    "<tr>\n",
    "<td><img src=\"5.png\" style=\"margin: 1px 0px\"></td>\n",
    "<td>0%</td>\n",
    "<td>0%</td>\n",
    "<td>0%</td>\n",
    "<td>3%</td>\n",
    "<td>0%</td>\n",
    "<td style=\"color:green;\">97%</td>\n",
    "<td>0%</td>\n",
    "<td>0%</td>\n",
    "<td>0%</td>\n",
    "<td>0%</td>\n",
    "</tr>\n",
    "<tr>\n",
    "<td><img src=\"6.png\" style=\"margin: 1px 0px\"></td>\n",
    "<td>0%</td>\n",
    "<td>0%</td>\n",
    "<td>0%</td>\n",
    "<td>0%</td>\n",
    "<td>0%</td>\n",
    "<td>1%</td>\n",
    "<td style=\"color:green;\">99%</td>\n",
    "<td>0%</td>\n",
    "<td>0%</td>\n",
    "<td>0%</td>\n",
    "</tr>\n",
    "<tr>\n",
    "<td><img src=\"7.png\" style=\"margin: 1px 0px\"></td>\n",
    "<td>0%</td>\n",
    "<td>2%</td>\n",
    "<td>0%</td>\n",
    "<td>0%</td>\n",
    "<td>0%</td>\n",
    "<td>0%</td>\n",
    "<td>0%</td>\n",
    "<td style=\"color:green;\">98%</td>\n",
    "<td>0%</td>\n",
    "<td>0%</td>\n",
    "</tr>\n",
    "<tr>\n",
    "<td><img src=\"8.png\" style=\"margin: 1px 0px\"></td>\n",
    "<td>0%</td>\n",
    "<td>0%</td>\n",
    "<td>0%</td>\n",
    "<td>0%</td>\n",
    "<td>0%</td>\n",
    "<td>0%</td>\n",
    "<td>0%</td>\n",
    "<td>0%</td>\n",
    "<td style=\"color:green;\">100%</td>\n",
    "<td>0%</td>\n",
    "</tr>\n",
    "<tr>\n",
    "<td><img src=\"9.png\" style=\"margin: 1px 0px\"></td>\n",
    "<td style=\"color:red;\">81%</td>\n",
    "<td>1%</td>\n",
    "<td>3%</td>\n",
    "<td>1%</td>\n",
    "<td>0%</td>\n",
    "<td>0%</td>\n",
    "<td>1%</td>\n",
    "<td>0%</td>\n",
    "<td>11%</td>\n",
    "<td>2%</td>\n",
    "</tr>\n",
    "<tr>\n",
    "<td><img src=\"dog.png\" style=\"margin: 1px 0px\"></td>\n",
    "<td>1%</td>\n",
    "<td>16%</td>\n",
    "<td>7%</td>\n",
    "<td>10%</td>\n",
    "<td>2%</td>\n",
    "<td>11%</td>\n",
    "<td>7%</td>\n",
    "<td>22%</td>\n",
    "<td style=\"color:red;\">23%</td>\n",
    "<td>1%</td>\n",
    "</tr>\n",
    "</tbody>\n",
    "    </table>"
   ]
  },
  {
   "cell_type": "markdown",
   "metadata": {
    "slideshow": {
     "slide_type": "subslide"
    }
   },
   "source": [
    "## Summary\n",
    "\n",
    "It's possible that you only see a small improvement and even a worsening on some examples. Particularly on the `9` example, the network will struggle as it doesn't really represent the training data set. Here are some things that may improve network performance:\n",
    "\n",
    " - More data augmentation (brightness, rotations, blurring etc.)\n",
    " - Larger base training set (colour images perhaps)\n",
    " - Larger number of training epochs (in general, the more the better)\n",
    " - Tweak the hyperparameters (dropout rate, learning rate, kernel size, number of filters, etc.)"
   ]
  },
  {
   "cell_type": "markdown",
   "metadata": {
    "slideshow": {
     "slide_type": "slide"
    }
   },
   "source": [
    "# Ethics of machine learning\n",
    "\n",
    "Machine learning has the problem that it can appear to be a bit of a 'black box' when processing information. You put in your question and you get out an answer. The answer isn't necessarilly correct and if you ask a stupid question (like \"what handwritten digit is this dog?\") you will still get an answer.\n",
    "\n",
    "Machine learning techniques are becoming more of a part of our daily lives, used by companies to make decisions but with no human in the loop, it can be hard to challenge. Google have a set of [AI principles](https://blog.google/technology/ai/ai-principles/) they work towards which I recommend reading but boil down to:\n",
    "\n",
    " 1. Be socially beneficial. \n",
    " 2. Avoid creating or reinforcing unfair bias.\n",
    " 3. Be built and tested for safety.\n",
    " 4. Be accountable to people.\n",
    " 5. Incorporate privacy design principles.\n",
    " 6. Uphold high standards of scientific excellence."
   ]
  },
  {
   "cell_type": "markdown",
   "metadata": {
    "slideshow": {
     "slide_type": "slide"
    }
   },
   "source": [
    "Credits:\n",
    "\n",
    "- Dog photo: CC BY 2.0 [Emily Mathews](https://www.flickr.com/photos/eamathe/14517807267/)\n",
    "- Irises: <a href=\"https://commons.wikimedia.org/w/index.php?curid=170298\">Iris setosa</a> (by\n",
    "<a href=\"https://commons.wikimedia.org/wiki/User:Radomil\">Radomil</a>, CC BY-SA 3.0),\n",
    "<a href=\"https://commons.wikimedia.org/w/index.php?curid=248095\">Iris versicolor</a> (by\n",
    "<a href=\"https://commons.wikimedia.org/wiki/User:Dlanglois\">Dlanglois</a>, CC BY-SA 3.0),\n",
    "and <a href=\"https://www.flickr.com/photos/33397993@N05/3352169862\">Iris virginica</a>\n",
    "(by <a href=\"https://www.flickr.com/photos/33397993@N05\">Frank Mayfield</a>, CC BY-SA\n",
    "2.0).\n",
    "- Kernel convolution images: http://machinelearninguru.com/computer_vision/basics/convolution/image_convolution_1.html\n",
    "- CNN layout: CC BY-SA 4.0 [Aphex34](https://commons.wikimedia.org/wiki/File:Typical_cnn.png)\n",
    "- XKCD Compiling comic: CC BY-NC 2.5 [Randall Munroe](https://xkcd.com)\n",
    "- Image segmentation: Copyright [Mapillary](https://blog.mapillary.com/update/2018/01/11/new-benchmarks-for-semantic-segmentation-models.html)\n",
    "- Deep painterly: [Fujun Luan](https://github.com/luanfujun/deep-painterly-harmonization)"
   ]
  }
 ],
 "metadata": {
  "celltoolbar": "Slideshow",
  "kernelspec": {
   "display_name": "Python 3",
   "language": "python",
   "name": "python3"
  },
  "language_info": {
   "codemirror_mode": {
    "name": "ipython",
    "version": 3
   },
   "file_extension": ".py",
   "mimetype": "text/x-python",
   "name": "python",
   "nbconvert_exporter": "python",
   "pygments_lexer": "ipython3",
   "version": "3.8.8"
  }
 },
 "nbformat": 4,
 "nbformat_minor": 4
}
